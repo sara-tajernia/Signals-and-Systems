{
 "cells": [
  {
   "cell_type": "markdown",
   "id": "3494b091",
   "metadata": {},
   "source": [
    "# کد پایتون بدون ارور نبودن فایل در زیپ ضمیمه شده"
   ]
  },
  {
   "cell_type": "code",
   "execution_count": 1,
   "id": "a36de47e",
   "metadata": {},
   "outputs": [],
   "source": [
    "from scipy.io import wavfile\n",
    "import scipy.io\n",
    "import numpy as np\n",
    "import matplotlib.pyplot as plt"
   ]
  },
  {
   "cell_type": "code",
   "execution_count": 2,
   "id": "9f368032",
   "metadata": {},
   "outputs": [
    {
     "ename": "IndentationError",
     "evalue": "unexpected indent (2598798806.py, line 2)",
     "output_type": "error",
     "traceback": [
      "\u001b[0;36m  File \u001b[0;32m\"/var/folders/bv/9wzw9bw96wq9tcsx1cjsmlc40000gn/T/ipykernel_18167/2598798806.py\"\u001b[0;36m, line \u001b[0;32m2\u001b[0m\n\u001b[0;31m    wave=wave[:1000]\u001b[0m\n\u001b[0m    ^\u001b[0m\n\u001b[0;31mIndentationError\u001b[0m\u001b[0;31m:\u001b[0m unexpected indent\n"
     ]
    }
   ],
   "source": [
    "T,wave=scipy.io.wavfile.read(\"sound.wav\")\n",
    "    wave=wave[:1000]\n",
    "    t=np.arange(0,1000/T,1/T)\n",
    "    plt.plot(t,wave)\n",
    "    plt.show()"
   ]
  },
  {
   "cell_type": "code",
   "execution_count": 3,
   "id": "7e422643",
   "metadata": {},
   "outputs": [
    {
     "ename": "IndentationError",
     "evalue": "unexpected indent (1472845436.py, line 2)",
     "output_type": "error",
     "traceback": [
      "\u001b[0;36m  File \u001b[0;32m\"/var/folders/bv/9wzw9bw96wq9tcsx1cjsmlc40000gn/T/ipykernel_18167/1472845436.py\"\u001b[0;36m, line \u001b[0;32m2\u001b[0m\n\u001b[0;31m    k, t=150, 61\u001b[0m\n\u001b[0m    ^\u001b[0m\n\u001b[0;31mIndentationError\u001b[0m\u001b[0;31m:\u001b[0m unexpected indent\n"
     ]
    }
   ],
   "source": [
    "T, wave = scipy.io.wavfile.read(\"sound.wav\")\n",
    "    k, t=150, 61\n",
    "    omega=np.pi*2/t\n",
    "    ak=[]\n",
    "    for i in range(k+1):\n",
    "        bk, ck= 0, 0\n",
    "        for s in range (t-1):\n",
    "            bk+=wave[s]*np.cos(s*i*omega)\n",
    "            ck+=wave[s]*np.sin(s*i*omega)\n",
    "        bk*=1/t\n",
    "        ck*=1/t\n",
    "        ak.append(complex(bk,-ck))\n",
    "    for z in range(len(ak)):\n",
    "        ak[z]=abs(ak[z])\n",
    "    time=np.linspace(0,T,k+1)\n",
    "    plt.stem(time,ak+bk)\n",
    "    plt.show()"
   ]
  },
  {
   "cell_type": "code",
   "execution_count": 4,
   "id": "2664b4ed",
   "metadata": {},
   "outputs": [
    {
     "ename": "IndentationError",
     "evalue": "unexpected indent (1839188302.py, line 2)",
     "output_type": "error",
     "traceback": [
      "\u001b[0;36m  File \u001b[0;32m\"/var/folders/bv/9wzw9bw96wq9tcsx1cjsmlc40000gn/T/ipykernel_18167/1839188302.py\"\u001b[0;36m, line \u001b[0;32m2\u001b[0m\n\u001b[0;31m    T, wave = scipy.io.wavfile.read(\"sound.wav\")\u001b[0m\n\u001b[0m    ^\u001b[0m\n\u001b[0;31mIndentationError\u001b[0m\u001b[0;31m:\u001b[0m unexpected indent\n"
     ]
    }
   ],
   "source": [
    "counter=0\n",
    "    T, wave = scipy.io.wavfile.read(\"sound.wav\")\n",
    "    for i in range(0, T-1):\n",
    "        if wave[i] < 0 and wave[i + 1] > 0 :\n",
    "            counter+=1\n",
    "    print('Frequency:', counter*T/wave[0])"
   ]
  }
 ],
 "metadata": {
  "kernelspec": {
   "display_name": "Python 3 (ipykernel)",
   "language": "python",
   "name": "python3"
  },
  "language_info": {
   "codemirror_mode": {
    "name": "ipython",
    "version": 3
   },
   "file_extension": ".py",
   "mimetype": "text/x-python",
   "name": "python",
   "nbconvert_exporter": "python",
   "pygments_lexer": "ipython3",
   "version": "3.8.3"
  }
 },
 "nbformat": 4,
 "nbformat_minor": 5
}
